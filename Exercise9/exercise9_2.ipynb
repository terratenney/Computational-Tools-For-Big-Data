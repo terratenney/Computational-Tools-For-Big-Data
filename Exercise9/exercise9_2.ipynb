{
 "cells": [
  {
   "cell_type": "code",
   "execution_count": 12,
   "metadata": {
    "collapsed": false
   },
   "outputs": [
    {
     "name": "stdout",
     "output_type": "stream",
     "text": [
      "Graph has an Euler Tour\n"
     ]
    }
   ],
   "source": [
    "#Checks if Node has even number of edges\n",
    "def isEven(num):\n",
    "\t\tfor node in num:\n",
    "\t\t\tif node[1] % 2 != 0:\n",
    "\t\t\t\treturn False\n",
    "\t\treturn True\n",
    "\n",
    "#Opens text file and splits file to nodes\n",
    "lines = sc.textFile(\"euler3.txt\")\n",
    "edges = lines.flatMap(lambda line: line.split())\n",
    "\n",
    "#Counts how many times each node is mentioned to get degree\n",
    "count = edges.map(lambda e: (e,1))\n",
    "count = count.reduceByKey(lambda node, c: node + c)\n",
    "\n",
    "#If node degree is even, then it has an Euler Tour\n",
    "if isEven(count.collect()):\n",
    "    print \"Graph has an Euler Tour\"\n",
    "else:\n",
    "    print \"Graph does not have an Euler Tour\"\n",
    "\n"
   ]
  },
  {
   "cell_type": "code",
   "execution_count": null,
   "metadata": {
    "collapsed": true
   },
   "outputs": [],
   "source": []
  },
  {
   "cell_type": "code",
   "execution_count": null,
   "metadata": {
    "collapsed": true
   },
   "outputs": [],
   "source": []
  },
  {
   "cell_type": "code",
   "execution_count": null,
   "metadata": {
    "collapsed": true
   },
   "outputs": [],
   "source": []
  }
 ],
 "metadata": {
  "kernelspec": {
   "display_name": "Python 2",
   "language": "python",
   "name": "python2"
  },
  "language_info": {
   "codemirror_mode": {
    "name": "ipython",
    "version": 2
   },
   "file_extension": ".py",
   "mimetype": "text/x-python",
   "name": "python",
   "nbconvert_exporter": "python",
   "pygments_lexer": "ipython2",
   "version": "2.7.6"
  }
 },
 "nbformat": 4,
 "nbformat_minor": 0
}
