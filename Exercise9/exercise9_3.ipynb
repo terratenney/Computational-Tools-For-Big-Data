{
 "cells": [
  {
   "cell_type": "code",
   "execution_count": 58,
   "metadata": {
    "collapsed": false
   },
   "outputs": [
    {
     "name": "stdout",
     "output_type": "stream",
     "text": [
      "The 10 networks observed the most:\n"
     ]
    },
    {
     "data": {
      "text/plain": [
       "[(u\" u'bssid': u'34:21:09:12:6c:1a'\", 347),\n",
       " (u\" u'bssid': u'00:24:b2:98:39:d2'\", 338),\n",
       " (u\" u'bssid': u'34:21:09:12:6c:18'\", 324),\n",
       " (u\" u'bssid': u'e8:08:8b:c9:c1:79'\", 318),\n",
       " (u\" u'bssid': u'44:94:fc:56:08:fb'\", 315),\n",
       " (u\" u'bssid': u'00:22:b0:b3:f2:ea'\", 314),\n",
       " (u\" u'bssid': u'2c:b0:5d:ef:08:2b'\", 272),\n",
       " (u\" u'bssid': u'44:94:fc:56:ce:5e'\", 240),\n",
       " (u\" u'bssid': u'28:cf:e9:84:a1:c3'\", 211),\n",
       " (u\" u'bssid': u'bc:ee:7b:55:1a:43'\", 210)]"
      ]
     },
     "execution_count": 58,
     "metadata": {},
     "output_type": "execute_result"
    }
   ],
   "source": [
    "#Splits the line into whatever desired index\n",
    "#This problem requires the bssid\n",
    "def splitString(s,idx):\n",
    "    line = s.split(',')\n",
    "    return line[idx]\n",
    "\n",
    "#Open the file and map each line to its bssid\n",
    "network = sc.textFile(\"wifi.data\")\n",
    "network_obs = network.map(lambda x: splitString(x,1))\n",
    "\n",
    "#Count the occurances of each bssid\n",
    "count = network_obs.map(lambda net: (net,1))\n",
    "count = count.reduceByKey(lambda net,c: net + c)\n",
    "\n",
    "#Print off the 10 networks with the highest value\n",
    "print \"The 10 networks observed the most:\"\n",
    "count.takeOrdered(10, key=lambda x: -x[1])"
   ]
  },
  {
   "cell_type": "code",
   "execution_count": 2,
   "metadata": {
    "collapsed": false
   },
   "outputs": [
    {
     "name": "stdout",
     "output_type": "stream",
     "text": [
      "The 10 most common wifi names:\n"
     ]
    },
    {
     "data": {
      "text/plain": [
       "[(u\"{u'ssid': u'SIT-GUEST'\", 15),\n",
       " (u\"{u'ssid': u''\", 15),\n",
       " (u\"{u'ssid': u'SIT-PROD'\", 13),\n",
       " (u\"{u'ssid': u'SIT-BYOD'\", 13),\n",
       " (u\"{u'ssid': u'MED-105'\", 11),\n",
       " (u\"{u'ssid': u'PDA-105'\", 11),\n",
       " (u\"{u'ssid': u'KNS-105'\", 11),\n",
       " (u\"{u'ssid': u'KEA-PUBLIC'\", 6),\n",
       " (u\"{u'ssid': u'GST-105'\", 5),\n",
       " (u\"{u'ssid': u'wireless'\", 4)]"
      ]
     },
     "execution_count": 2,
     "metadata": {},
     "output_type": "execute_result"
    }
   ],
   "source": [
    "#Splits the line into whatever desired index\n",
    "#This problem requires the ssid and bssid\n",
    "def splitString(s,idx):\n",
    "    line = s.split(',')\n",
    "    return line[idx]\n",
    "\n",
    "#Open the file of network connections\n",
    "network = sc.textFile(\"wifi.data\")\n",
    "#Reduce each line to a new key of its (bssid,ssid)\n",
    "#This will get us the unique networks and their names\n",
    "common = common.reduceByKey(lambda net,value: (splitString(net,1),splitString(net,0)))\n",
    "\n",
    "#Map and count each occurance of a network name\n",
    "count = common.map(lambda name: (name[1],1))\n",
    "count = count.reduceByKey(lambda name,c: name + c)\n",
    "\n",
    "#Print off the top 10 names that occur\n",
    "print \"The 10 most common wifi names:\"\n",
    "count.takeOrdered(10, key=lambda x: -x[1])"
   ]
  },
  {
   "cell_type": "code",
   "execution_count": 4,
   "metadata": {
    "collapsed": false
   },
   "outputs": [
    {
     "name": "stdout",
     "output_type": "stream",
     "text": [
      "The 10 longest names:\n"
     ]
    },
    {
     "data": {
      "text/plain": [
       "[(u\"{u'ssid': u'HP-Print-43-Deskjet 3520 series'\", 44),\n",
       " (u\"{u'ssid': u'Charlotte R.s Wi-Fi-netv\\\\xe6rk'\", 43),\n",
       " (u\"{u'ssid': u'TeliaGateway08-76-FF-84-FF-8C'\", 42),\n",
       " (u\"{u'ssid': u'TeliaGateway08-76-FF-85-04-2F'\", 42),\n",
       " (u\"{u'ssid': u'TeliaGateway9C-97-26-57-15-99'\", 42),\n",
       " (u\"{u'ssid': u'TeliaGatewayA4-B1-E9-2C-9E-CA'\", 42),\n",
       " (u\"{u'ssid': u'TeliaGateway08-76-FF-9C-E0-82'\", 42),\n",
       " (u\"{u'ssid': u'TeliaGateway08-76-FF-46-3E-36'\", 42),\n",
       " (u\"{u'ssid': u'TeliaGateway08-76-FF-8A-EE-32'\", 42),\n",
       " (u\"{u'ssid': u'Emil M\\\\xf8rkebergs Netv\\\\xe6rk'\", 42)]"
      ]
     },
     "execution_count": 4,
     "metadata": {},
     "output_type": "execute_result"
    }
   ],
   "source": [
    "#Splits the line into whatever desired index\n",
    "#This problem requires the ssid and bssid\n",
    "def splitString(s,idx):\n",
    "    line = s.split(',')\n",
    "    return line[idx]\n",
    "\n",
    "#Open the file of network connections\n",
    "network = sc.textFile(\"wifi.data\")\n",
    "#Reduce each line to a new key of its (bssid,ssid)\n",
    "#This will get us the unique networks and their names\n",
    "common = common.reduceByKey(lambda net,value: (splitString(net,1),splitString(net,0)))\n",
    "\n",
    "#Map and count each occurance of a network name\n",
    "count = common.map(lambda name: (name[1],len(name[1])))\n",
    "\n",
    "#Print off the top 10 longest names that occur\n",
    "print \"The 10 longest names:\"\n",
    "count.takeOrdered(10, key=lambda x: -x[1])"
   ]
  },
  {
   "cell_type": "code",
   "execution_count": null,
   "metadata": {
    "collapsed": true
   },
   "outputs": [],
   "source": []
  }
 ],
 "metadata": {
  "kernelspec": {
   "display_name": "Python 2",
   "language": "python",
   "name": "python2"
  },
  "language_info": {
   "codemirror_mode": {
    "name": "ipython",
    "version": 2
   },
   "file_extension": ".py",
   "mimetype": "text/x-python",
   "name": "python",
   "nbconvert_exporter": "python",
   "pygments_lexer": "ipython2",
   "version": "2.7.6"
  }
 },
 "nbformat": 4,
 "nbformat_minor": 0
}
