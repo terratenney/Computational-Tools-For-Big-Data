{
 "cells": [
  {
   "cell_type": "code",
   "execution_count": 29,
   "metadata": {
    "collapsed": false
   },
   "outputs": [
    {
     "data": {
      "text/plain": [
       "[(u'even', 2),\n",
       " (u'count', 1),\n",
       " (u'max', 1),\n",
       " (u'is', 1),\n",
       " (u'cannot', 2),\n",
       " (u'dumb', 1),\n",
       " (u'pretty', 1),\n",
       " (u'hello', 2),\n",
       " (u'talk', 1),\n",
       " (u'he', 2)]"
      ]
     },
     "execution_count": 29,
     "metadata": {},
     "output_type": "execute_result"
    }
   ],
   "source": [
    "import string\n",
    "\n",
    "#Open text file and remove punctuation and set to lower case\n",
    "lines = sc.textFile(\"test1.txt\")\n",
    "punc = lines.map(lambda text: text.lower())\n",
    "punc = punc.map(lambda text: text.translate({ord(c): None for c in string.punctuation}))\n",
    "#Split lines into words\n",
    "split = punc.flatMap(lambda line: line.split())\n",
    "\n",
    "#Map each word to a count of 1\n",
    "words = split.map(lambda w: (w,1))\n",
    "#Then count each occurance of a word\n",
    "word_count = words.reduceByKey(lambda w, c: w + c)\n",
    "word_count.collect()"
   ]
  },
  {
   "cell_type": "code",
   "execution_count": null,
   "metadata": {
    "collapsed": true
   },
   "outputs": [],
   "source": []
  }
 ],
 "metadata": {
  "kernelspec": {
   "display_name": "Python 2",
   "language": "python",
   "name": "python2"
  },
  "language_info": {
   "codemirror_mode": {
    "name": "ipython",
    "version": 2
   },
   "file_extension": ".py",
   "mimetype": "text/x-python",
   "name": "python",
   "nbconvert_exporter": "python",
   "pygments_lexer": "ipython2",
   "version": "2.7.6"
  }
 },
 "nbformat": 4,
 "nbformat_minor": 0
}
